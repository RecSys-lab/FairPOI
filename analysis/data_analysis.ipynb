{
 "cells": [
  {
   "cell_type": "markdown",
   "metadata": {},
   "source": [
    "# POI Data Analysis"
   ]
  },
  {
   "cell_type": "markdown",
   "metadata": {},
   "source": [
    "## Import"
   ]
  },
  {
   "cell_type": "code",
   "execution_count": 44,
   "metadata": {},
   "outputs": [
    {
     "name": "stderr",
     "output_type": "stream",
     "text": [
      "'%' is not recognized as an internal or external command,\n",
      "operable program or batch file.\n"
     ]
    }
   ],
   "source": [
    "# imports\n",
    "import pandas as pd\n",
    "import numpy as np\n",
    "import matplotlib.pyplot as plt\n",
    "!% config InlineBackend.figure_format = 'retina'\n",
    "from scipy import stats"
   ]
  },
  {
   "cell_type": "markdown",
   "metadata": {},
   "source": [
    "## Load Data\n",
    "Here we load the datasets, we first specify the datasets path and root folders then we load the datasets. To do the analysis, we first load the check-ins record dataset then to have some specific analysis on different users groups we create different group of users based on their activity and check-in frequancy: `low active`, `medium active`, `high active`, `very high active`."
   ]
  },
  {
   "cell_type": "markdown",
   "metadata": {},
   "source": [
    "### Root data path"
   ]
  },
  {
   "cell_type": "code",
   "execution_count": 45,
   "metadata": {},
   "outputs": [],
   "source": [
    "# dataset specification\n",
    "data_dir = \"../datasets/\"\n",
    "group_dir = \"../groups\"\n",
    "# you can change the dataset name when you want to run it on different dataset\n",
    "dataset_name = \"yelp\" # yelp, gowalla, or foursquare"
   ]
  },
  {
   "cell_type": "markdown",
   "metadata": {},
   "source": [
    "### Load check-ins data"
   ]
  },
  {
   "cell_type": "code",
   "execution_count": 46,
   "metadata": {},
   "outputs": [
    {
     "name": "stdout",
     "output_type": "stream",
     "text": [
      "No. of users: 7135\n",
      "No. of items: 15575\n",
      "No. of user events: 299327\n"
     ]
    }
   ],
   "source": [
    "# read user checkins\n",
    "cols = ['user', 'poi', 'timestamp']\n",
    "user_events_file = data_dir + dataset_name + \"/\" + dataset_name + \"_checkins.txt\"\n",
    "df_events = pd.read_csv(user_events_file, sep='\\t', names=cols)\n",
    "print('No. of users: ' + str(len(df_events.user.unique())))\n",
    "print('No. of items: ' + str(len(df_events.poi.unique())))\n",
    "print('No. of user events: ' + str(len(df_events)))"
   ]
  },
  {
   "cell_type": "code",
   "execution_count": 47,
   "metadata": {},
   "outputs": [
    {
     "data": {
      "text/html": [
       "<div>\n",
       "<style scoped>\n",
       "    .dataframe tbody tr th:only-of-type {\n",
       "        vertical-align: middle;\n",
       "    }\n",
       "\n",
       "    .dataframe tbody tr th {\n",
       "        vertical-align: top;\n",
       "    }\n",
       "\n",
       "    .dataframe thead th {\n",
       "        text-align: right;\n",
       "    }\n",
       "</style>\n",
       "<table border=\"1\" class=\"dataframe\">\n",
       "  <thead>\n",
       "    <tr style=\"text-align: right;\">\n",
       "      <th></th>\n",
       "      <th>user</th>\n",
       "      <th>poi</th>\n",
       "      <th>timestamp</th>\n",
       "    </tr>\n",
       "  </thead>\n",
       "  <tbody>\n",
       "    <tr>\n",
       "      <th>0</th>\n",
       "      <td>0</td>\n",
       "      <td>0</td>\n",
       "      <td>1.185638e+09</td>\n",
       "    </tr>\n",
       "    <tr>\n",
       "      <th>1</th>\n",
       "      <td>0</td>\n",
       "      <td>8</td>\n",
       "      <td>1.185638e+09</td>\n",
       "    </tr>\n",
       "    <tr>\n",
       "      <th>2</th>\n",
       "      <td>0</td>\n",
       "      <td>2</td>\n",
       "      <td>1.185638e+09</td>\n",
       "    </tr>\n",
       "    <tr>\n",
       "      <th>3</th>\n",
       "      <td>0</td>\n",
       "      <td>3</td>\n",
       "      <td>1.185638e+09</td>\n",
       "    </tr>\n",
       "    <tr>\n",
       "      <th>4</th>\n",
       "      <td>0</td>\n",
       "      <td>4</td>\n",
       "      <td>1.185638e+09</td>\n",
       "    </tr>\n",
       "  </tbody>\n",
       "</table>\n",
       "</div>"
      ],
      "text/plain": [
       "   user  poi     timestamp\n",
       "0     0    0  1.185638e+09\n",
       "1     0    8  1.185638e+09\n",
       "2     0    2  1.185638e+09\n",
       "3     0    3  1.185638e+09\n",
       "4     0    4  1.185638e+09"
      ]
     },
     "execution_count": 47,
     "metadata": {},
     "output_type": "execute_result"
    }
   ],
   "source": [
    "df_events.head()"
   ]
  },
  {
   "cell_type": "code",
   "execution_count": 48,
   "metadata": {},
   "outputs": [
    {
     "name": "stdout",
     "output_type": "stream",
     "text": [
      "No. user-item interactions: 283291\n"
     ]
    }
   ],
   "source": [
    "# create user-item matrix\n",
    "predict_col = 'poi'\n",
    "df_events = df_events.groupby(['user', predict_col]).size().reset_index(name='count')\n",
    "print('No. user-item interactions: ' + str(len(df_events)))"
   ]
  },
  {
   "cell_type": "markdown",
   "metadata": {},
   "source": [
    "### Load user groups data"
   ]
  },
  {
   "cell_type": "code",
   "execution_count": 49,
   "metadata": {},
   "outputs": [],
   "source": [
    "if dataset_name == 'Gowalla':\n",
    "  user_groups = ['19', '47', '94', 'more']\n",
    "elif dataset_name == 'Yelp':\n",
    "  user_groups = ['51', '128', '256', 'more']"
   ]
  },
  {
   "cell_type": "code",
   "execution_count": 50,
   "metadata": {},
   "outputs": [],
   "source": [
    "low_user_file = group_dir + \"/users/\" + dataset_name + '/users_checkins_' + user_groups[0] + '.txt'\n",
    "medium_user_file = group_dir + \"/users/\" + dataset_name + '/users_checkins_' + user_groups[1] + '.txt'\n",
    "high_user_file = group_dir + \"/users/\" + dataset_name + '/users_checkins_' + user_groups[2] + '.txt'\n",
    "veryhigh_user_file = group_dir + \"/users/\" + dataset_name + '/users_checkins_' + user_groups[3] + '.txt'"
   ]
  },
  {
   "cell_type": "markdown",
   "metadata": {},
   "source": [
    "## Data Statistics"
   ]
  },
  {
   "cell_type": "code",
   "execution_count": 51,
   "metadata": {},
   "outputs": [
    {
     "name": "stdout",
     "output_type": "stream",
     "text": [
      "No. filtered user check-ins: 283291\n",
      "No. filtered items: 15575\n"
     ]
    }
   ],
   "source": [
    "item_threshold = 1 # 1 means no filtering\n",
    "df_events = df_events[df_events['count'] >= item_threshold]\n",
    "print('No. filtered user check-ins: ' + str(len(df_events)))\n",
    "print('No. filtered items: ' + str(len(df_events[predict_col].unique())))"
   ]
  },
  {
   "cell_type": "code",
   "execution_count": 52,
   "metadata": {},
   "outputs": [
    {
     "name": "stdout",
     "output_type": "stream",
     "text": [
      "Mean POIs per user: 39.70441485634198\n",
      "Min POIs per user: 8\n",
      "Max POIs per user: 951\n"
     ]
    }
   ],
   "source": [
    "# get user distribution\n",
    "user_dist = df_events['user'].value_counts()\n",
    "num_users = len(user_dist)\n",
    "print('Mean POIs per user: ' + str(user_dist.mean()))\n",
    "print('Min POIs per user: ' + str(user_dist.min()))\n",
    "print('Max POIs per user: ' + str(user_dist.max()))"
   ]
  },
  {
   "cell_type": "code",
   "execution_count": 53,
   "metadata": {},
   "outputs": [
    {
     "name": "stdout",
     "output_type": "stream",
     "text": [
      "No. POIs: 15575\n",
      "Index of 0.8 of data: 1517.0\n"
     ]
    }
   ],
   "source": [
    "# get item distribution\n",
    "item_dist = df_events[predict_col].value_counts()\n",
    "num_items = len(item_dist)\n",
    "print('No. POIs: ' + str(num_items))\n",
    "\n",
    "# Calculate \"N\" portion (N*100 percent) of data to be shown on the plot\n",
    "portion = 0.8\n",
    "seperatorPosition = df_events[predict_col].quantile(1 - portion)\n",
    "print(f'Index of {portion} of data: ' + str(seperatorPosition))"
   ]
  },
  {
   "cell_type": "markdown",
   "metadata": {},
   "source": [
    "## Long-tail Anaylsis"
   ]
  },
  {
   "cell_type": "code",
   "execution_count": 54,
   "metadata": {},
   "outputs": [
    {
     "data": {
      "image/png": "[encoded data removed]",
      "text/plain": [
       "<Figure size 432x288 with 1 Axes>"
      ]
     },
     "metadata": {
      "needs_background": "light"
     },
     "output_type": "display_data"
    }
   ],
   "source": [
    "# plot item distribution\n",
    "plt.figure()\n",
    "plt.plot(item_dist.values)\n",
    "plt.xlabel('POIs (log)', fontsize='12')\n",
    "plt.xticks(fontsize='10')\n",
    "plt.yticks(fontsize='10')\n",
    "plt.ylabel('Number of check-ins (log)', fontsize='12')\n",
    "plt.xscale('log')\n",
    "plt.yscale('log')\n",
    "plt.savefig('results/' + dataset_name + '/' + 'long-tail-log.pdf', dpi=300, bbox_inches='tight')"
   ]
  },
  {
   "cell_type": "code",
   "execution_count": 55,
   "metadata": {},
   "outputs": [
    {
     "data": {
      "image/png": "[encoded data removed]",
      "text/plain": [
       "<Figure size 432x288 with 1 Axes>"
      ]
     },
     "metadata": {
      "needs_background": "light"
     },
     "output_type": "display_data"
    }
   ],
   "source": [
    "# plot item distribution\n",
    "plt.figure()\n",
    "plt.plot(item_dist.values)\n",
    "plt.xlabel('POIs', fontsize='12')\n",
    "plt.xticks(fontsize='10')\n",
    "plt.yticks(fontsize='10')\n",
    "plt.axvline(x=seperatorPosition, color='black', linestyle='--', label='80% of users with the highest checkins') # The vertical line\n",
    "plt.legend(fontsize='10', loc = \"upper right\")\n",
    "plt.ylabel('Number of check-ins', fontsize='12')\n",
    "plt.savefig('results/' + dataset_name + '/' + 'long-tail-normal.pdf', dpi=300, bbox_inches='tight')"
   ]
  },
  {
   "cell_type": "code",
   "execution_count": 56,
   "metadata": {},
   "outputs": [
    {
     "name": "stdout",
     "output_type": "stream",
     "text": [
      "No. top items: 3115\n"
     ]
    }
   ],
   "source": [
    "# get top items\n",
    "top_fraction = 0.2\n",
    "num_top = int(top_fraction * num_items)\n",
    "top_item_dist = item_dist[:num_top]\n",
    "print('No. top items: ' + str(len(top_item_dist)))"
   ]
  },
  {
   "cell_type": "code",
   "execution_count": 57,
   "metadata": {},
   "outputs": [
    {
     "name": "stdout",
     "output_type": "stream",
     "text": [
      "3099 2444 954 638\n",
      "No. of users: 7135\n"
     ]
    }
   ],
   "source": [
    "# read users\n",
    "low_users = pd.read_csv(low_user_file, sep=',', header=None)\n",
    "medium_users = pd.read_csv(medium_user_file, sep=',', header=None)\n",
    "high_users = pd.read_csv(high_user_file, sep=',', header=None)\n",
    "veryhigh_users = pd.read_csv(veryhigh_user_file, sep=',', header=None)\n",
    "no_users = len(low_users) + len(medium_users) + len(high_users) + len(veryhigh_users)\n",
    "print(len(low_users), len(medium_users), len(high_users), len(veryhigh_users))\n",
    "print('No. of users: ' + str(no_users))"
   ]
  },
  {
   "cell_type": "code",
   "execution_count": 58,
   "metadata": {},
   "outputs": [
    {
     "name": "stdout",
     "output_type": "stream",
     "text": [
      "Low count (for check): 3099\n",
      "Med count (for check): 0\n",
      "High count (for check): 0\n",
      "Very High count (for check): 4036\n"
     ]
    }
   ],
   "source": [
    "# get pop fractions\n",
    "pop_count = [] # number of top items per user\n",
    "user_hist = [] # user history sizes\n",
    "pop_fraq = [] # relative number of top items per user\n",
    "pop_item_fraq = [] # average popularity of items in user profiles\n",
    "\n",
    "low_profile_size = 0\n",
    "low_gap = 0\n",
    "\n",
    "medium_profile_size = 0\n",
    "medium_gap = 0\n",
    "\n",
    "high_profile_size = 0\n",
    "high_gap = 0\n",
    "veryhigh_profile_size = 0\n",
    "veryhigh_gap = 0\n",
    "\n",
    "low_count = 0\n",
    "med_count = 0\n",
    "high_count = 0\n",
    "veryhigh_count = 0\n",
    "\n",
    "for u, df in df_events.groupby('user'):\n",
    "    no_user_items = len(set(df[predict_col])) # profile size\n",
    "    no_user_pop_items = len(set(df[predict_col]) & set(top_item_dist.index)) # top items in profile\n",
    "    pop_count.append(no_user_pop_items)\n",
    "    user_hist.append(no_user_items)\n",
    "    pop_fraq.append(no_user_pop_items / no_user_items)\n",
    "    # get popularity (= fraction of users interacted with item) of user items and calculate average of it\n",
    "    user_pop_item_fraq = sum(item_dist[df[predict_col]] / no_users) / no_user_items\n",
    "    pop_item_fraq.append(user_pop_item_fraq)\n",
    "    if u in low_users.index: # get user group-specific values\n",
    "        low_profile_size += no_user_items\n",
    "        low_gap += user_pop_item_fraq\n",
    "        low_count += 1\n",
    "    elif u in medium_users.index:\n",
    "        medium_profile_size += no_user_items\n",
    "        medium_gap += user_pop_item_fraq\n",
    "        med_count += 1\n",
    "    elif u in high_users.index:\n",
    "        high_profile_size += no_user_items\n",
    "        high_gap += user_pop_item_fraq\n",
    "        high_count += 1\n",
    "    else:\n",
    "        veryhigh_profile_size += no_user_items\n",
    "        veryhigh_gap += user_pop_item_fraq\n",
    "        veryhigh_count += 1\n",
    "\n",
    "low_profile_size /= len(low_users)\n",
    "medium_profile_size /= len(medium_users)\n",
    "high_profile_size /= len(high_users)\n",
    "veryhigh_profile_size /= len(veryhigh_users)\n",
    "\n",
    "low_gap /= len(low_users)\n",
    "medium_gap /= len(medium_users)\n",
    "high_gap /= len(high_users)\n",
    "veryhigh_gap /= len(veryhigh_users)\n",
    "\n",
    "print('Low count (for check): ' + str(low_count))\n",
    "print('Med count (for check): ' + str(med_count))\n",
    "print('High count (for check): ' + str(high_count))\n",
    "print('Very High count (for check): ' + str(veryhigh_count))"
   ]
  },
  {
   "cell_type": "code",
   "execution_count": 59,
   "metadata": {},
   "outputs": [
    {
     "data": {
      "image/png": "[encoded data removed]",
      "text/plain": [
       "<Figure size 432x288 with 1 Axes>"
      ]
     },
     "metadata": {
      "needs_background": "light"
     },
     "output_type": "display_data"
    }
   ],
   "source": [
    "plt.figure()\n",
    "plt.plot(sorted(pop_fraq))\n",
    "plt.xlabel('User', fontsize='12')\n",
    "plt.xticks(fontsize='10')\n",
    "plt.ylabel('Ratio of popular POIs', fontsize='12')\n",
    "plt.yticks(fontsize='10')\n",
    "plt.axhline(y=0.8, color='black', linestyle='--', label='80% ratio of popular POIs')\n",
    "plt.legend(fontsize='10', loc = \"lower right\")\n",
    "plt.savefig('results/' + dataset_name + '/' + 'user_poi_ratio.pdf', dpi=300, bbox_inches='tight')"
   ]
  },
  {
   "cell_type": "code",
   "execution_count": 60,
   "metadata": {},
   "outputs": [
    {
     "name": "stdout",
     "output_type": "stream",
     "text": [
      "R-value: 0.9355841625874312\n"
     ]
    },
    {
     "data": {
      "image/png": "[encoded data removed]",
      "text/plain": [
       "<Figure size 432x288 with 1 Axes>"
      ]
     },
     "metadata": {
      "needs_background": "light"
     },
     "output_type": "display_data"
    }
   ],
   "source": [
    "plt.figure()\n",
    "slope, intercept, r_value, p_value, std_err = stats.linregress(user_hist, pop_count)\n",
    "print('R-value: ' + str(r_value))\n",
    "line = slope * np.array(user_hist) + intercept\n",
    "plt.plot(user_hist, pop_count, 'o', user_hist, line)\n",
    "plt.xlabel('User profile size', fontsize='12')\n",
    "plt.xticks(fontsize='10')\n",
    "plt.ylabel('Number of popular POIs', fontsize='12')\n",
    "plt.yticks(fontsize='10')\n",
    "plt.savefig('results/' + dataset_name + '/' + 'corr_user_numebr.pdf', dpi=300, bbox_inches='tight')"
   ]
  },
  {
   "cell_type": "code",
   "execution_count": 61,
   "metadata": {},
   "outputs": [
    {
     "name": "stdout",
     "output_type": "stream",
     "text": [
      "R-value: -0.07848306028598427\n",
      "SpearmanrResult(correlation=-0.02318620682530362, pvalue=0.05017908785366844)\n"
     ]
    },
    {
     "data": {
      "image/png": "[encoded data removed]",
      "text/plain": [
       "<Figure size 432x288 with 1 Axes>"
      ]
     },
     "metadata": {
      "needs_background": "light"
     },
     "output_type": "display_data"
    }
   ],
   "source": [
    "plt.figure()\n",
    "slope, intercept, r_value, p_value, std_err = stats.linregress(user_hist, pop_item_fraq)\n",
    "print('R-value: ' + str(r_value))\n",
    "print(stats.spearmanr(user_hist, pop_item_fraq))\n",
    "line = slope * np.array(user_hist) + intercept\n",
    "plt.plot(user_hist, pop_item_fraq, 'o', user_hist, line)\n",
    "plt.xlabel('User profile size', fontsize='12')\n",
    "plt.ylabel('Average popularity of POIs', fontsize='12')\n",
    "plt.xticks(fontsize='10')\n",
    "plt.yticks(fontsize='10')\n",
    "plt.savefig('results/' + dataset_name + '/' + 'corr_user_avg.pdf', dpi=300, bbox_inches='tight')"
   ]
  },
  {
   "cell_type": "code",
   "execution_count": 62,
   "metadata": {},
   "outputs": [
    {
     "data": {
      "image/png": "[encoded data removed]",
      "text/plain": [
       "<Figure size 432x288 with 1 Axes>"
      ]
     },
     "metadata": {
      "needs_background": "light"
     },
     "output_type": "display_data"
    }
   ],
   "source": [
    "plt.figure()\n",
    "slope, intercept, r_value, p_value, std_err = stats.linregress(user_hist, pop_fraq)\n",
    "line = slope * np.array(user_hist) + intercept\n",
    "plt.plot(user_hist, pop_fraq, 'o', user_hist, line)\n",
    "plt.xlabel('User profile size', fontsize='12')\n",
    "plt.ylabel('Percentage of popular POIs', fontsize='12')\n",
    "plt.xticks(fontsize='10')\n",
    "plt.yticks(fontsize='10')\n",
    "plt.savefig('results/' + dataset_name + '/' + 'corr_user_prec.pdf', dpi=300, bbox_inches='tight')"
   ]
  }
 ],
 "metadata": {
  "interpreter": {
   "hash": "bf24a73065757191b60d326c005a57a73bbb5089423d084e8bd93128afbad3a6"
  },
  "kernelspec": {
   "display_name": "Python 3.8.2 64-bit ('coronaVirus': conda)",
   "name": "python3"
  },
  "language_info": {
   "codemirror_mode": {
    "name": "ipython",
    "version": 3
   },
   "file_extension": ".py",
   "mimetype": "text/x-python",
   "name": "python",
   "nbconvert_exporter": "python",
   "pygments_lexer": "ipython3",
   "version": "3.8.2"
  },
  "orig_nbformat": 4
 },
 "nbformat": 4,
 "nbformat_minor": 2
}
